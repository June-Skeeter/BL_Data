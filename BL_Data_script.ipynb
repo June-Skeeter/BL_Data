{
 "cells": [
  {
   "cell_type": "markdown",
   "metadata": {},
   "source": [
    "# Boundary Layer Height Estimation\n",
    "\n",
    "### This script gets pulls GFS data from nomads.ncdc.noaa.gov/ via ftp over a specified date range\n",
    "\n",
    "### It uses NCL (NCAR Command Language) https://www.ncl.ucar.edu/Download/ to convert .grib2 files to .nc4 (NetCDF4) http://unidata.github.io/netcdf4-python/#netCDF4.Variable\n",
    "\n",
    "### Then it estimates the BL heights at your location based off the average of the (#9) closet gridpoints"
   ]
  },
  {
   "cell_type": "code",
   "execution_count": 4,
   "metadata": {},
   "outputs": [
    {
     "name": "stdout",
     "output_type": "stream",
     "text": [
      "['06', '07', '08', '09']\n"
     ]
    }
   ],
   "source": [
    "FTPRootDir = \"ftp://nomads.ncdc.noaa.gov/GFS/analysis_only/\"\n",
    "Yr = [str(yr) for yr in range(2017,2018)]\n",
    "Mo = [str(mo) for mo in range(6,10)]\n",
    "dy = [str(dy)]\n",
    "i = 0\n",
    "for mo in Mo:\n",
    "    if len(mo) == 1:\n",
    "        Mo[i] = '0'+mo\n",
    "    i +=1\n",
    "\n",
    "print(Mo)"
   ]
  },
  {
   "cell_type": "code",
   "execution_count": null,
   "metadata": {},
   "outputs": [],
   "source": [
    "FTPpath=\"ftp://nomads.ncdc.noaa.gov/GFS/analysis_only/20170%mo/20170%mo01/gfsanl_3_20170601_0000_000.grb2\"\n",
    "# tail=\"_gdas0p5\"\n",
    "Command = 'wget --user=\"anonymous\" --password=\"thruhikerflash@gmail.com\" '\n",
    "for m in range (6,10):\n",
    "    mo = str(m)\n",
    "    for d in range(0,32):\n",
    "        if d < 10:\n",
    "            day = '0'+str(d)\n",
    "        else:\n",
    "            day = str(d)\n",
    "        if (m == 6 and d < 21) == False and (m == 9 and d > 14) == False:\n",
    "            BashCommand = Command+FTPpath+mo+day+tail\n",
    "#             print(BashCommand)\n",
    "print(BashCommand)\n",
    "BashCommand =\"\"\"wget --user=\"anonymous\" --password=\"thruhikerflash@gmail.com\" ftp://nomads.ncdc.noaa.gov/GFS/analysis_only/201706/20170601/gfsanl_3_20170601_0000_000.grb2\"\"\"\n",
    "print(BashCommand.split())\n",
    "BashCommand = \"echo kitty\"\n",
    "import subprocess\n",
    "process = subprocess.Popen(BashCommand, stdout=subprocess.PIPE)\n",
    "output, error = process.communicate()  "
   ]
  },
  {
   "cell_type": "code",
   "execution_count": 4,
   "metadata": {},
   "outputs": [
    {
     "name": "stdout",
     "output_type": "stream",
     "text": [
      "kitty\n",
      "['wget', '--user=anonymous', '--password=thruhikerflash@gmail.com', 'ftp://nomads.ncdc.noaa.gov/GFS/analysis_only/201706/20170601/gfsanl_3_20170601_0000_000.grb2']\n"
     ]
    }
   ],
   "source": [
    "import shlex, subprocess\n",
    "command_line = input()\n",
    "\n",
    "BashCommand =\"\"\"wget --user=\"anonymous\" --password=\"thruhikerflash@gmail.com\" ftp://nomads.ncdc.noaa.gov/GFS/analysis_only/201706/20170601/gfsanl_3_20170601_0000_000.grb2\"\"\"\n",
    "\n",
    "\n",
    "args = shlex.split(BashCommand)\n",
    "print(args)\n",
    "\n",
    "p = subprocess.Popen(args) # Success!"
   ]
  },
  {
   "cell_type": "code",
   "execution_count": 5,
   "metadata": {},
   "outputs": [],
   "source": [
    "\n",
    "\n",
    "from netCDF4 import Dataset\n",
    "rootgrp = Dataset(\"temp/gfsanl_3_20170601_0000_000.nc4\", \"a\")\n"
   ]
  },
  {
   "cell_type": "code",
   "execution_count": null,
   "metadata": {
    "scrolled": true
   },
   "outputs": [],
   "source": [
    "BL = rootgrp.variables['UGRD_P0_L220_GLL0'][:]\n",
    "print(BL)\n",
    "# print(rootgrp.varriables)#['lat_0'])\n",
    "# print(rootgrp['VGRD_P0_L220_GLL0'])\n",
    "# BL = rootgrp.createVariable()\n",
    "# print(rootgrp.varriable)\n",
    "# fcstgrp = rootgrp.createGroup(\"forecasts\")\n",
    "# analgrp = rootgrp.createGroup(\"analyses\")\n",
    "# print (rootgrp.groups)"
   ]
  },
  {
   "cell_type": "code",
   "execution_count": null,
   "metadata": {
    "scrolled": false
   },
   "outputs": [],
   "source": [
    "\"\"\"\n",
    "plot H's and L's on a sea-level pressure map\n",
    "(uses scipy.ndimage.filters and netcdf4-python)\n",
    "\"\"\"\n",
    "import numpy as np\n",
    "import matplotlib.pyplot as plt\n",
    "from datetime import datetime\n",
    "from mpl_toolkits.basemap import Basemap, addcyclic\n",
    "from scipy.ndimage.filters import minimum_filter, maximum_filter\n",
    "from netCDF4 import Dataset\n",
    "\n",
    "def extrema(mat,mode='wrap',window=10):\n",
    "    \"\"\"find the indices of local extrema (min and max)\n",
    "    in the input array.\"\"\"\n",
    "    mn = minimum_filter(mat, size=window, mode=mode)\n",
    "    mx = maximum_filter(mat, size=window, mode=mode)\n",
    "    # (mat == mx) true if pixel is equal to the local max\n",
    "    # (mat == mn) true if pixel is equal to the local in\n",
    "    # Return the indices of the maxima, minima\n",
    "    return np.nonzero(mat == mn), np.nonzero(mat == mx)\n",
    "\n",
    "# plot 00 UTC today.\n",
    "date = datetime.now().strftime('%Y%m%d')+'00'\n",
    "print(date)\n",
    "date = '2017110900'\n",
    "\n",
    "# open OpenDAP dataset.\n",
    "temp = \"http://nomads.ncep.noaa.gov:9090/dods/gfs/gfs/%s/gfs_%sz_anl\" %\\\n",
    "       (date[0:8],date[8:10])\n",
    "print(temp)\n",
    "# \"https://nomads.ncdc.noaa.gov/data/gfsanl/200403/20040310/\n",
    "\n",
    "data=Dataset(\"https://nomads.ncdc.noaa.gov/data/gfsanl/200404/20040402/gfsanl_3_20040402_0000_000.grb\")#\"http://nomads.ncep.noaa.gov:9090/dods/gfs_0p25/gfs20171111/gfs_0p25_00z_anl\")\n",
    "    #\"http://nomads.ncep.noaa.gov:9090/dods/gfs_0p50/gfs20171109/gfs_0p50_00z\")#%\\\n",
    "#         (date[0:8],date[8:10]))\n",
    "\n",
    "\n",
    "\n",
    "# read lats,lons.\n",
    "lats = data.variables['lat'][:]\n",
    "lons1 = data.variables['lon'][:]\n",
    "print(data.variables)\n",
    "nlats = len(lats)\n",
    "nlons = len(lons1)\n",
    "# read prmsl, convert to hPa (mb).\n",
    "prmsl = 0.01*data.variables['prmslmsl'][0]\n",
    "# the window parameter controls the number of highs and lows detected.\n",
    "# (higher value, fewer highs and lows)\n",
    "local_min, local_max = extrema(prmsl, mode='wrap', window=50)\n",
    "# create Basemap instance.\n",
    "m = Basemap(llcrnrlon=0,llcrnrlat=-80,urcrnrlon=360,urcrnrlat=80,projection='mill')\n",
    "# add wrap-around point in longitude.\n",
    "prmsl, lons = addcyclic(prmsl, lons1)\n",
    "# contour levels\n",
    "clevs = np.arange(900,1100.,5.)\n",
    "# find x,y of map projection grid.\n",
    "lons, lats = np.meshgrid(lons, lats)\n",
    "x, y = m(lons, lats)\n",
    "x = x.astype(int)\n",
    "y = y.astype(int)\n",
    "print(type(x),y)\n",
    "# create figure.\n",
    "fig=plt.figure(figsize=(8,4.5))\n",
    "ax = fig.add_axes([0.05,0.05,0.9,0.85])\n",
    "print(m)\n",
    "cs = m.contour(x,y,prmsl,clevs,colors='k',linewidths=1.)\n",
    "m.drawcoastlines(linewidth=1.25)\n",
    "m.fillcontinents(color='0.8')\n",
    "m.drawparallels(np.arange(-80,81,20),labels=[1,1,0,0])\n",
    "m.drawmeridians(np.arange(0,360,60),labels=[0,0,0,1])\n",
    "xlows = x[local_min]; xhighs = x[local_max]\n",
    "ylows = y[local_min]; yhighs = y[local_max]\n",
    "lowvals = prmsl[local_min]; highvals = prmsl[local_max]\n",
    "# plot lows as blue L's, with min pressure value underneath.\n",
    "xyplotted = []\n",
    "# don't plot if there is already a L or H within dmin meters.\n",
    "yoffset = 0.022*(m.ymax-m.ymin)\n",
    "dmin = yoffset\n",
    "for x,y,p in zip(xlows, ylows, lowvals):\n",
    "    if x < m.xmax and x > m.xmin and y < m.ymax and y > m.ymin:\n",
    "        dist = [np.sqrt((x-x0)**2+(y-y0)**2) for x0,y0 in xyplotted]\n",
    "        if not dist or min(dist) > dmin:\n",
    "            plt.text(x,y,'L',fontsize=14,fontweight='bold',\n",
    "                    ha='center',va='center',color='b')\n",
    "            plt.text(x,y-yoffset,repr(int(p)),fontsize=9,\n",
    "                    ha='center',va='top',color='b',\n",
    "                    bbox = dict(boxstyle=\"square\",ec='None',fc=(1,1,1,0.5)))\n",
    "            xyplotted.append((x,y))\n",
    "# plot highs as red H's, with max pressure value underneath.\n",
    "xyplotted = []\n",
    "for x,y,p in zip(xhighs, yhighs, highvals):\n",
    "    if x < m.xmax and x > m.xmin and y < m.ymax and y > m.ymin:\n",
    "        dist = [np.sqrt((x-x0)**2+(y-y0)**2) for x0,y0 in xyplotted]\n",
    "        if not dist or min(dist) > dmin:\n",
    "            plt.text(x,y,'H',fontsize=14,fontweight='bold',\n",
    "                    ha='center',va='center',color='r')\n",
    "            plt.text(x,y-yoffset,repr(int(p)),fontsize=9,\n",
    "                    ha='center',va='top',color='r',\n",
    "                    bbox = dict(boxstyle=\"square\",ec='None',fc=(1,1,1,0.5)))\n",
    "            xyplotted.append((x,y))\n",
    "plt.title('Mean Sea-Level Pressure (with Highs and Lows) %s' % date)\n",
    "plt.show()"
   ]
  },
  {
   "cell_type": "code",
   "execution_count": null,
   "metadata": {},
   "outputs": [],
   "source": [
    "from mpl_toolkits.basemap import Basemap\n",
    "import matplotlib.pyplot as plt\n",
    "import numpy as np\n",
    "# set up orthographic map projection with\n",
    "# perspective of satellite looking down at 50N, 100W.\n",
    "# use low resolution coastlines.\n",
    "map = Basemap(projection='ortho',lat_0=45,lon_0=-100,resolution='l')\n",
    "# draw coastlines, country boundaries, fill continents.\n",
    "map.drawcoastlines(linewidth=0.25)\n",
    "map.drawcountries(linewidth=0.25)\n",
    "map.fillcontinents(color='coral',lake_color='aqua')\n",
    "# draw the edge of the map projection region (the projection limb)\n",
    "map.drawmapboundary(fill_color='aqua')\n",
    "# draw lat/lon grid lines every 30 degrees.\n",
    "map.drawmeridians(np.arange(0,360,30))\n",
    "map.drawparallels(np.arange(-90,90,30))\n",
    "# make up some data on a regular lat/lon grid.\n",
    "nlats = 73; nlons = 145; delta = 2.*np.pi/(nlons-1)\n",
    "lats = (0.5*np.pi-delta*np.indices((nlats,nlons))[0,:,:])\n",
    "lons = (delta*np.indices((nlats,nlons))[1,:,:])\n",
    "wave = 0.75*(np.sin(2.*lats)**8*np.cos(4.*lons))\n",
    "mean = 0.5*np.cos(2.*lats)*((np.sin(2.*lats))**2 + 2.)\n",
    "# compute native map projection coordinates of lat/lon grid.\n",
    "x, y = map(lons*180./np.pi, lats*180./np.pi)\n",
    "# contour data over the map.\n",
    "cs = map.contour(x,y,wave+mean,15,linewidths=1.5)\n",
    "plt.title('contour lines over filled continent background')\n",
    "plt.show()"
   ]
  },
  {
   "cell_type": "code",
   "execution_count": null,
   "metadata": {},
   "outputs": [],
   "source": []
  }
 ],
 "metadata": {
  "kernelspec": {
   "display_name": "Python 3",
   "language": "python",
   "name": "python3"
  },
  "language_info": {
   "codemirror_mode": {
    "name": "ipython",
    "version": 3
   },
   "file_extension": ".py",
   "mimetype": "text/x-python",
   "name": "python",
   "nbconvert_exporter": "python",
   "pygments_lexer": "ipython3",
   "version": "3.5.2"
  }
 },
 "nbformat": 4,
 "nbformat_minor": 2
}
